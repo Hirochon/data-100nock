{
 "cells": [
  {
   "cell_type": "markdown",
   "metadata": {},
   "source": [
    "# １章 ウェブの注文数を分析する１０本ノック\n",
    "\n",
    "ここでは、ある企業のECサイトでの商品の注文数の推移を分析していきます。  \n",
    "データの属性を理解し、分析をするためにデータを加工した後、  \n",
    "データの可視化を行うことで問題を発見していくプロセスを学びます。"
   ]
  },
  {
   "cell_type": "markdown",
   "metadata": {},
   "source": [
    "### ノック１：データを読み込んでみよう"
   ]
  },
  {
   "cell_type": "code",
   "execution_count": 1,
   "metadata": {},
   "outputs": [
    {
     "name": "stdout",
     "output_type": "stream",
     "text": [
      "Package                Version            \r\n",
      "---------------------- -------------------\r\n",
      "alembic                1.4.1              \r\n",
      "async-generator        1.10               \r\n",
      "attrs                  19.3.0             \r\n",
      "backcall               0.1.0              \r\n",
      "beautifulsoup4         4.8.2              \r\n",
      "bleach                 3.1.3              \r\n",
      "blinker                1.4                \r\n",
      "bokeh                  1.4.0              \r\n",
      "certifi                2019.11.28         \r\n",
      "certipy                0.1.3              \r\n",
      "cffi                   1.14.0             \r\n",
      "chardet                3.0.4              \r\n",
      "click                  7.1.1              \r\n",
      "cloudpickle            1.3.0              \r\n",
      "conda                  4.8.2              \r\n",
      "conda-package-handling 1.6.0              \r\n",
      "cryptography           2.8                \r\n",
      "cycler                 0.10.0             \r\n",
      "Cython                 0.29.15            \r\n",
      "cytoolz                0.10.1             \r\n",
      "dask                   2.11.0             \r\n",
      "decorator              4.4.2              \r\n",
      "defusedxml             0.6.0              \r\n",
      "dill                   0.3.1.1            \r\n",
      "distributed            2.12.0             \r\n",
      "entrypoints            0.3                \r\n",
      "fsspec                 0.6.2              \r\n",
      "h5py                   2.10.0             \r\n",
      "HeapDict               1.0.1              \r\n",
      "idna                   2.9                \r\n",
      "imageio                2.8.0              \r\n",
      "importlib-metadata     1.5.0              \r\n",
      "ipykernel              5.1.4              \r\n",
      "ipympl                 0.5.3              \r\n",
      "ipython                7.13.0             \r\n",
      "ipython-genutils       0.2.0              \r\n",
      "ipywidgets             7.5.1              \r\n",
      "jedi                   0.16.0             \r\n",
      "Jinja2                 2.11.1             \r\n",
      "joblib                 0.14.1             \r\n",
      "json5                  0.9.0              \r\n",
      "jsonschema             3.2.0              \r\n",
      "jupyter-client         6.0.0              \r\n",
      "jupyter-core           4.6.3              \r\n",
      "jupyter-telemetry      0.0.5              \r\n",
      "jupyterhub             1.1.0              \r\n",
      "jupyterlab             2.0.1              \r\n",
      "jupyterlab-server      1.0.7              \r\n",
      "kiwisolver             1.1.0              \r\n",
      "llvmlite               0.31.0             \r\n",
      "locket                 0.2.0              \r\n",
      "Mako                   1.1.0              \r\n",
      "MarkupSafe             1.1.1              \r\n",
      "matplotlib             3.1.3              \r\n",
      "mistune                0.8.4              \r\n",
      "mpmath                 1.1.0              \r\n",
      "msgpack                1.0.0              \r\n",
      "nbconvert              5.6.1              \r\n",
      "nbformat               5.0.4              \r\n",
      "networkx               2.4                \r\n",
      "notebook               6.0.3              \r\n",
      "numba                  0.48.0             \r\n",
      "numexpr                2.7.1              \r\n",
      "numpy                  1.18.1             \r\n",
      "oauthlib               3.0.1              \r\n",
      "olefile                0.46               \r\n",
      "packaging              20.1               \r\n",
      "pamela                 1.0.0              \r\n",
      "pandas                 1.0.2              \r\n",
      "pandocfilters          1.4.2              \r\n",
      "parso                  0.6.2              \r\n",
      "partd                  1.1.0              \r\n",
      "patsy                  0.5.1              \r\n",
      "pexpect                4.8.0              \r\n",
      "pickleshare            0.7.5              \r\n",
      "Pillow                 7.0.0              \r\n",
      "pip                    20.0.2             \r\n",
      "prometheus-client      0.7.1              \r\n",
      "prompt-toolkit         3.0.4              \r\n",
      "protobuf               3.11.4             \r\n",
      "psutil                 5.7.0              \r\n",
      "ptyprocess             0.6.0              \r\n",
      "pycosat                0.6.3              \r\n",
      "pycparser              2.20               \r\n",
      "pycurl                 7.43.0.5           \r\n",
      "Pygments               2.6.1              \r\n",
      "PyJWT                  1.7.1              \r\n",
      "pyOpenSSL              19.1.0             \r\n",
      "pyparsing              2.4.6              \r\n",
      "pyrsistent             0.15.7             \r\n",
      "PySocks                1.7.1              \r\n",
      "python-dateutil        2.8.1              \r\n",
      "python-editor          1.0.4              \r\n",
      "python-json-logger     0.1.11             \r\n",
      "pytz                   2019.3             \r\n",
      "PyWavelets             1.1.1              \r\n",
      "PyYAML                 5.3                \r\n",
      "pyzmq                  19.0.0             \r\n",
      "requests               2.23.0             \r\n",
      "rpy2                   3.1.0              \r\n",
      "ruamel-yaml            0.15.80            \r\n",
      "ruamel.yaml            0.16.6             \r\n",
      "ruamel.yaml.clib       0.2.0              \r\n",
      "scikit-image           0.16.2             \r\n",
      "scikit-learn           0.22.2.post1       \r\n",
      "scipy                  1.4.1              \r\n",
      "seaborn                0.10.0             \r\n",
      "Send2Trash             1.5.0              \r\n",
      "setuptools             46.0.0.post20200311\r\n",
      "simplegeneric          0.8.1              \r\n",
      "six                    1.14.0             \r\n",
      "sortedcontainers       2.1.0              \r\n",
      "soupsieve              1.9.4              \r\n",
      "SQLAlchemy             1.3.15             \r\n",
      "statsmodels            0.11.1             \r\n",
      "sympy                  1.5.1              \r\n",
      "tblib                  1.6.0              \r\n",
      "terminado              0.8.3              \r\n",
      "testpath               0.4.4              \r\n",
      "toolz                  0.10.0             \r\n",
      "tornado                6.0.4              \r\n",
      "tqdm                   4.43.0             \r\n",
      "traitlets              4.3.3              \r\n",
      "tzlocal                2.0.0              \r\n",
      "urllib3                1.25.7             \r\n",
      "vincent                0.4.4              \r\n",
      "wcwidth                0.1.8              \r\n",
      "webencodings           0.5.1              \r\n",
      "wheel                  0.34.2             \r\n",
      "widgetsnbextension     3.5.1              \r\n",
      "xlrd                   1.2.0              \r\n",
      "zict                   2.0.0              \r\n",
      "zipp                   3.1.0              \r\n"
     ]
    }
   ],
   "source": [
    "!pip list"
   ]
  },
  {
   "cell_type": "code",
   "execution_count": 8,
   "metadata": {},
   "outputs": [
    {
     "data": {
      "text/plain": [
       "'/code/practice_code/chapter_1'"
      ]
     },
     "execution_count": 8,
     "metadata": {},
     "output_type": "execute_result"
    }
   ],
   "source": [
    "import os\n",
    "os.getcwd()"
   ]
  },
  {
   "cell_type": "code",
   "execution_count": 2,
   "metadata": {},
   "outputs": [],
   "source": [
    "import pandas as pd"
   ]
  },
  {
   "cell_type": "code",
   "execution_count": 10,
   "metadata": {},
   "outputs": [],
   "source": [
    "sample_code_dir = '/code/sample_code/1章/'"
   ]
  },
  {
   "cell_type": "code",
   "execution_count": 3,
   "metadata": {},
   "outputs": [
    {
     "data": {
      "text/html": [
       "<div>\n",
       "<style scoped>\n",
       "    .dataframe tbody tr th:only-of-type {\n",
       "        vertical-align: middle;\n",
       "    }\n",
       "\n",
       "    .dataframe tbody tr th {\n",
       "        vertical-align: top;\n",
       "    }\n",
       "\n",
       "    .dataframe thead th {\n",
       "        text-align: right;\n",
       "    }\n",
       "</style>\n",
       "<table border=\"1\" class=\"dataframe\">\n",
       "  <thead>\n",
       "    <tr style=\"text-align: right;\">\n",
       "      <th></th>\n",
       "      <th>customer_id</th>\n",
       "      <th>customer_name</th>\n",
       "      <th>registration_date</th>\n",
       "      <th>customer_name_kana</th>\n",
       "      <th>email</th>\n",
       "      <th>gender</th>\n",
       "      <th>age</th>\n",
       "      <th>birth</th>\n",
       "      <th>pref</th>\n",
       "    </tr>\n",
       "  </thead>\n",
       "  <tbody>\n",
       "    <tr>\n",
       "      <th>0</th>\n",
       "      <td>IK152942</td>\n",
       "      <td>平田 裕次郎</td>\n",
       "      <td>2019-01-01 00:25:33</td>\n",
       "      <td>ひらた ゆうじろう</td>\n",
       "      <td>hirata_yuujirou@example.com</td>\n",
       "      <td>M</td>\n",
       "      <td>29</td>\n",
       "      <td>1990/6/10</td>\n",
       "      <td>石川県</td>\n",
       "    </tr>\n",
       "    <tr>\n",
       "      <th>1</th>\n",
       "      <td>TS808488</td>\n",
       "      <td>田村 詩織</td>\n",
       "      <td>2019-01-01 01:13:45</td>\n",
       "      <td>たむら しおり</td>\n",
       "      <td>tamura_shiori@example.com</td>\n",
       "      <td>F</td>\n",
       "      <td>33</td>\n",
       "      <td>1986/5/20</td>\n",
       "      <td>東京都</td>\n",
       "    </tr>\n",
       "    <tr>\n",
       "      <th>2</th>\n",
       "      <td>AS834628</td>\n",
       "      <td>久野 由樹</td>\n",
       "      <td>2019-01-01 02:00:14</td>\n",
       "      <td>ひさの ゆき</td>\n",
       "      <td>hisano_yuki@example.com</td>\n",
       "      <td>F</td>\n",
       "      <td>63</td>\n",
       "      <td>1956/1/2</td>\n",
       "      <td>茨城県</td>\n",
       "    </tr>\n",
       "    <tr>\n",
       "      <th>3</th>\n",
       "      <td>AS345469</td>\n",
       "      <td>鶴岡 薫</td>\n",
       "      <td>2019-01-01 04:48:22</td>\n",
       "      <td>つるおか かおる</td>\n",
       "      <td>tsuruoka_kaoru@example.com</td>\n",
       "      <td>M</td>\n",
       "      <td>74</td>\n",
       "      <td>1945/3/25</td>\n",
       "      <td>東京都</td>\n",
       "    </tr>\n",
       "    <tr>\n",
       "      <th>4</th>\n",
       "      <td>GD892565</td>\n",
       "      <td>大内 高史</td>\n",
       "      <td>2019-01-01 04:54:51</td>\n",
       "      <td>おおうち たかし</td>\n",
       "      <td>oouchi_takashi@example.com</td>\n",
       "      <td>M</td>\n",
       "      <td>54</td>\n",
       "      <td>1965/8/5</td>\n",
       "      <td>千葉県</td>\n",
       "    </tr>\n",
       "  </tbody>\n",
       "</table>\n",
       "</div>"
      ],
      "text/plain": [
       "  customer_id customer_name    registration_date customer_name_kana  \\\n",
       "0    IK152942        平田 裕次郎  2019-01-01 00:25:33          ひらた ゆうじろう   \n",
       "1    TS808488         田村 詩織  2019-01-01 01:13:45            たむら しおり   \n",
       "2    AS834628         久野 由樹  2019-01-01 02:00:14             ひさの ゆき   \n",
       "3    AS345469          鶴岡 薫  2019-01-01 04:48:22           つるおか かおる   \n",
       "4    GD892565         大内 高史  2019-01-01 04:54:51           おおうち たかし   \n",
       "\n",
       "                         email gender  age      birth pref  \n",
       "0  hirata_yuujirou@example.com      M   29  1990/6/10  石川県  \n",
       "1    tamura_shiori@example.com      F   33  1986/5/20  東京都  \n",
       "2      hisano_yuki@example.com      F   63   1956/1/2  茨城県  \n",
       "3   tsuruoka_kaoru@example.com      M   74  1945/3/25  東京都  \n",
       "4   oouchi_takashi@example.com      M   54   1965/8/5  千葉県  "
      ]
     },
     "metadata": {},
     "output_type": "display_data"
    },
    {
     "data": {
      "text/plain": [
       "(5000, 9)"
      ]
     },
     "metadata": {},
     "output_type": "display_data"
    }
   ],
   "source": [
    "customer_master = pd.read_csv('../../sample_code/1章/customer_master.csv')\n",
    "display(customer_master.head(), customer_master.shape)"
   ]
  },
  {
   "cell_type": "code",
   "execution_count": 32,
   "metadata": {},
   "outputs": [
    {
     "data": {
      "text/plain": [
       "<bound method Series.unique of 0       IK152942\n",
       "1       TS808488\n",
       "2       AS834628\n",
       "3       AS345469\n",
       "4       GD892565\n",
       "          ...   \n",
       "4995    AS677229\n",
       "4996    HD758694\n",
       "4997    PL538517\n",
       "4998    OA955088\n",
       "4999    HI349563\n",
       "Name: customer_id, Length: 5000, dtype: object>"
      ]
     },
     "metadata": {},
     "output_type": "display_data"
    }
   ],
   "source": [
    "display(customer_master['customer_id'].unique)"
   ]
  },
  {
   "cell_type": "code",
   "execution_count": 13,
   "metadata": {},
   "outputs": [
    {
     "data": {
      "text/html": [
       "<div>\n",
       "<style scoped>\n",
       "    .dataframe tbody tr th:only-of-type {\n",
       "        vertical-align: middle;\n",
       "    }\n",
       "\n",
       "    .dataframe tbody tr th {\n",
       "        vertical-align: top;\n",
       "    }\n",
       "\n",
       "    .dataframe thead th {\n",
       "        text-align: right;\n",
       "    }\n",
       "</style>\n",
       "<table border=\"1\" class=\"dataframe\">\n",
       "  <thead>\n",
       "    <tr style=\"text-align: right;\">\n",
       "      <th></th>\n",
       "      <th>item_id</th>\n",
       "      <th>item_name</th>\n",
       "      <th>item_price</th>\n",
       "    </tr>\n",
       "  </thead>\n",
       "  <tbody>\n",
       "    <tr>\n",
       "      <th>0</th>\n",
       "      <td>S001</td>\n",
       "      <td>PC-A</td>\n",
       "      <td>50000</td>\n",
       "    </tr>\n",
       "    <tr>\n",
       "      <th>1</th>\n",
       "      <td>S002</td>\n",
       "      <td>PC-B</td>\n",
       "      <td>85000</td>\n",
       "    </tr>\n",
       "    <tr>\n",
       "      <th>2</th>\n",
       "      <td>S003</td>\n",
       "      <td>PC-C</td>\n",
       "      <td>120000</td>\n",
       "    </tr>\n",
       "    <tr>\n",
       "      <th>3</th>\n",
       "      <td>S004</td>\n",
       "      <td>PC-D</td>\n",
       "      <td>180000</td>\n",
       "    </tr>\n",
       "    <tr>\n",
       "      <th>4</th>\n",
       "      <td>S005</td>\n",
       "      <td>PC-E</td>\n",
       "      <td>210000</td>\n",
       "    </tr>\n",
       "  </tbody>\n",
       "</table>\n",
       "</div>"
      ],
      "text/plain": [
       "  item_id item_name  item_price\n",
       "0    S001      PC-A       50000\n",
       "1    S002      PC-B       85000\n",
       "2    S003      PC-C      120000\n",
       "3    S004      PC-D      180000\n",
       "4    S005      PC-E      210000"
      ]
     },
     "metadata": {},
     "output_type": "display_data"
    },
    {
     "data": {
      "text/plain": [
       "(5, 3)"
      ]
     },
     "metadata": {},
     "output_type": "display_data"
    }
   ],
   "source": [
    "item_master = pd.read_csv('/code/sample_code/1章/item_master.csv')\n",
    "display(item_master.head(), item_master.shape)"
   ]
  },
  {
   "cell_type": "code",
   "execution_count": 12,
   "metadata": {},
   "outputs": [
    {
     "data": {
      "text/html": [
       "<div>\n",
       "<style scoped>\n",
       "    .dataframe tbody tr th:only-of-type {\n",
       "        vertical-align: middle;\n",
       "    }\n",
       "\n",
       "    .dataframe tbody tr th {\n",
       "        vertical-align: top;\n",
       "    }\n",
       "\n",
       "    .dataframe thead th {\n",
       "        text-align: right;\n",
       "    }\n",
       "</style>\n",
       "<table border=\"1\" class=\"dataframe\">\n",
       "  <thead>\n",
       "    <tr style=\"text-align: right;\">\n",
       "      <th></th>\n",
       "      <th>transaction_id</th>\n",
       "      <th>price</th>\n",
       "      <th>payment_date</th>\n",
       "      <th>customer_id</th>\n",
       "    </tr>\n",
       "  </thead>\n",
       "  <tbody>\n",
       "    <tr>\n",
       "      <th>0</th>\n",
       "      <td>T0000000113</td>\n",
       "      <td>210000</td>\n",
       "      <td>2019-02-01 01:36:57</td>\n",
       "      <td>PL563502</td>\n",
       "    </tr>\n",
       "    <tr>\n",
       "      <th>1</th>\n",
       "      <td>T0000000114</td>\n",
       "      <td>50000</td>\n",
       "      <td>2019-02-01 01:37:23</td>\n",
       "      <td>HD678019</td>\n",
       "    </tr>\n",
       "    <tr>\n",
       "      <th>2</th>\n",
       "      <td>T0000000115</td>\n",
       "      <td>120000</td>\n",
       "      <td>2019-02-01 02:34:19</td>\n",
       "      <td>HD298120</td>\n",
       "    </tr>\n",
       "    <tr>\n",
       "      <th>3</th>\n",
       "      <td>T0000000116</td>\n",
       "      <td>210000</td>\n",
       "      <td>2019-02-01 02:47:23</td>\n",
       "      <td>IK452215</td>\n",
       "    </tr>\n",
       "    <tr>\n",
       "      <th>4</th>\n",
       "      <td>T0000000117</td>\n",
       "      <td>170000</td>\n",
       "      <td>2019-02-01 04:33:46</td>\n",
       "      <td>PL542865</td>\n",
       "    </tr>\n",
       "  </tbody>\n",
       "</table>\n",
       "</div>"
      ],
      "text/plain": [
       "  transaction_id   price         payment_date customer_id\n",
       "0    T0000000113  210000  2019-02-01 01:36:57    PL563502\n",
       "1    T0000000114   50000  2019-02-01 01:37:23    HD678019\n",
       "2    T0000000115  120000  2019-02-01 02:34:19    HD298120\n",
       "3    T0000000116  210000  2019-02-01 02:47:23    IK452215\n",
       "4    T0000000117  170000  2019-02-01 04:33:46    PL542865"
      ]
     },
     "metadata": {},
     "output_type": "display_data"
    },
    {
     "data": {
      "text/plain": [
       "(5000, 4)"
      ]
     },
     "metadata": {},
     "output_type": "display_data"
    }
   ],
   "source": [
    "transaction_1 = pd.read_csv(sample_code_dir + 'transaction_1.csv')\n",
    "display(transaction_1.head(), transaction_1.shape)"
   ]
  },
  {
   "cell_type": "code",
   "execution_count": 15,
   "metadata": {},
   "outputs": [
    {
     "data": {
      "text/html": [
       "<div>\n",
       "<style scoped>\n",
       "    .dataframe tbody tr th:only-of-type {\n",
       "        vertical-align: middle;\n",
       "    }\n",
       "\n",
       "    .dataframe tbody tr th {\n",
       "        vertical-align: top;\n",
       "    }\n",
       "\n",
       "    .dataframe thead th {\n",
       "        text-align: right;\n",
       "    }\n",
       "</style>\n",
       "<table border=\"1\" class=\"dataframe\">\n",
       "  <thead>\n",
       "    <tr style=\"text-align: right;\">\n",
       "      <th></th>\n",
       "      <th>detail_id</th>\n",
       "      <th>transaction_id</th>\n",
       "      <th>item_id</th>\n",
       "      <th>quantity</th>\n",
       "    </tr>\n",
       "  </thead>\n",
       "  <tbody>\n",
       "    <tr>\n",
       "      <th>0</th>\n",
       "      <td>0</td>\n",
       "      <td>T0000000113</td>\n",
       "      <td>S005</td>\n",
       "      <td>1</td>\n",
       "    </tr>\n",
       "    <tr>\n",
       "      <th>1</th>\n",
       "      <td>1</td>\n",
       "      <td>T0000000114</td>\n",
       "      <td>S001</td>\n",
       "      <td>1</td>\n",
       "    </tr>\n",
       "    <tr>\n",
       "      <th>2</th>\n",
       "      <td>2</td>\n",
       "      <td>T0000000115</td>\n",
       "      <td>S003</td>\n",
       "      <td>1</td>\n",
       "    </tr>\n",
       "    <tr>\n",
       "      <th>3</th>\n",
       "      <td>3</td>\n",
       "      <td>T0000000116</td>\n",
       "      <td>S005</td>\n",
       "      <td>1</td>\n",
       "    </tr>\n",
       "    <tr>\n",
       "      <th>4</th>\n",
       "      <td>4</td>\n",
       "      <td>T0000000117</td>\n",
       "      <td>S002</td>\n",
       "      <td>2</td>\n",
       "    </tr>\n",
       "  </tbody>\n",
       "</table>\n",
       "</div>"
      ],
      "text/plain": [
       "   detail_id transaction_id item_id  quantity\n",
       "0          0    T0000000113    S005         1\n",
       "1          1    T0000000114    S001         1\n",
       "2          2    T0000000115    S003         1\n",
       "3          3    T0000000116    S005         1\n",
       "4          4    T0000000117    S002         2"
      ]
     },
     "metadata": {},
     "output_type": "display_data"
    },
    {
     "data": {
      "text/plain": [
       "(5000, 4)"
      ]
     },
     "metadata": {},
     "output_type": "display_data"
    }
   ],
   "source": [
    "transaction_detail_1 = pd.read_csv(sample_code_dir + 'transaction_detail_1.csv')\n",
    "display(transaction_detail_1.head(), transaction_detail_1.shape)"
   ]
  },
  {
   "cell_type": "markdown",
   "metadata": {},
   "source": [
    "### ノック２：データを結合(ユニオン)してみよう"
   ]
  },
  {
   "cell_type": "code",
   "execution_count": 17,
   "metadata": {},
   "outputs": [
    {
     "data": {
      "text/plain": [
       "(1786, 4)"
      ]
     },
     "metadata": {},
     "output_type": "display_data"
    },
    {
     "data": {
      "text/html": [
       "<div>\n",
       "<style scoped>\n",
       "    .dataframe tbody tr th:only-of-type {\n",
       "        vertical-align: middle;\n",
       "    }\n",
       "\n",
       "    .dataframe tbody tr th {\n",
       "        vertical-align: top;\n",
       "    }\n",
       "\n",
       "    .dataframe thead th {\n",
       "        text-align: right;\n",
       "    }\n",
       "</style>\n",
       "<table border=\"1\" class=\"dataframe\">\n",
       "  <thead>\n",
       "    <tr style=\"text-align: right;\">\n",
       "      <th></th>\n",
       "      <th>transaction_id</th>\n",
       "      <th>price</th>\n",
       "      <th>payment_date</th>\n",
       "      <th>customer_id</th>\n",
       "    </tr>\n",
       "  </thead>\n",
       "  <tbody>\n",
       "    <tr>\n",
       "      <th>0</th>\n",
       "      <td>T0000000113</td>\n",
       "      <td>210000</td>\n",
       "      <td>2019-02-01 01:36:57</td>\n",
       "      <td>PL563502</td>\n",
       "    </tr>\n",
       "    <tr>\n",
       "      <th>1</th>\n",
       "      <td>T0000000114</td>\n",
       "      <td>50000</td>\n",
       "      <td>2019-02-01 01:37:23</td>\n",
       "      <td>HD678019</td>\n",
       "    </tr>\n",
       "    <tr>\n",
       "      <th>2</th>\n",
       "      <td>T0000000115</td>\n",
       "      <td>120000</td>\n",
       "      <td>2019-02-01 02:34:19</td>\n",
       "      <td>HD298120</td>\n",
       "    </tr>\n",
       "    <tr>\n",
       "      <th>3</th>\n",
       "      <td>T0000000116</td>\n",
       "      <td>210000</td>\n",
       "      <td>2019-02-01 02:47:23</td>\n",
       "      <td>IK452215</td>\n",
       "    </tr>\n",
       "    <tr>\n",
       "      <th>4</th>\n",
       "      <td>T0000000117</td>\n",
       "      <td>170000</td>\n",
       "      <td>2019-02-01 04:33:46</td>\n",
       "      <td>PL542865</td>\n",
       "    </tr>\n",
       "  </tbody>\n",
       "</table>\n",
       "</div>"
      ],
      "text/plain": [
       "  transaction_id   price         payment_date customer_id\n",
       "0    T0000000113  210000  2019-02-01 01:36:57    PL563502\n",
       "1    T0000000114   50000  2019-02-01 01:37:23    HD678019\n",
       "2    T0000000115  120000  2019-02-01 02:34:19    HD298120\n",
       "3    T0000000116  210000  2019-02-01 02:47:23    IK452215\n",
       "4    T0000000117  170000  2019-02-01 04:33:46    PL542865"
      ]
     },
     "metadata": {},
     "output_type": "display_data"
    },
    {
     "data": {
      "text/plain": [
       "(6786, 4)"
      ]
     },
     "metadata": {},
     "output_type": "display_data"
    },
    {
     "data": {
      "text/html": [
       "<div>\n",
       "<style scoped>\n",
       "    .dataframe tbody tr th:only-of-type {\n",
       "        vertical-align: middle;\n",
       "    }\n",
       "\n",
       "    .dataframe tbody tr th {\n",
       "        vertical-align: top;\n",
       "    }\n",
       "\n",
       "    .dataframe thead th {\n",
       "        text-align: right;\n",
       "    }\n",
       "</style>\n",
       "<table border=\"1\" class=\"dataframe\">\n",
       "  <thead>\n",
       "    <tr style=\"text-align: right;\">\n",
       "      <th></th>\n",
       "      <th>transaction_id</th>\n",
       "      <th>price</th>\n",
       "      <th>payment_date</th>\n",
       "      <th>customer_id</th>\n",
       "      <th>transaction_id</th>\n",
       "      <th>price</th>\n",
       "      <th>payment_date</th>\n",
       "      <th>customer_id</th>\n",
       "    </tr>\n",
       "  </thead>\n",
       "  <tbody>\n",
       "    <tr>\n",
       "      <th>0</th>\n",
       "      <td>T0000000113</td>\n",
       "      <td>210000</td>\n",
       "      <td>2019-02-01 01:36:57</td>\n",
       "      <td>PL563502</td>\n",
       "      <td>T0000005113</td>\n",
       "      <td>295000.0</td>\n",
       "      <td>2019-06-15 07:20:27</td>\n",
       "      <td>TS169261</td>\n",
       "    </tr>\n",
       "    <tr>\n",
       "      <th>1</th>\n",
       "      <td>T0000000114</td>\n",
       "      <td>50000</td>\n",
       "      <td>2019-02-01 01:37:23</td>\n",
       "      <td>HD678019</td>\n",
       "      <td>T0000005114</td>\n",
       "      <td>50000.0</td>\n",
       "      <td>2019-06-15 07:35:47</td>\n",
       "      <td>HI599892</td>\n",
       "    </tr>\n",
       "    <tr>\n",
       "      <th>2</th>\n",
       "      <td>T0000000115</td>\n",
       "      <td>120000</td>\n",
       "      <td>2019-02-01 02:34:19</td>\n",
       "      <td>HD298120</td>\n",
       "      <td>T0000005115</td>\n",
       "      <td>85000.0</td>\n",
       "      <td>2019-06-15 07:56:36</td>\n",
       "      <td>HI421757</td>\n",
       "    </tr>\n",
       "    <tr>\n",
       "      <th>3</th>\n",
       "      <td>T0000000116</td>\n",
       "      <td>210000</td>\n",
       "      <td>2019-02-01 02:47:23</td>\n",
       "      <td>IK452215</td>\n",
       "      <td>T0000005116</td>\n",
       "      <td>50000.0</td>\n",
       "      <td>2019-06-15 08:40:55</td>\n",
       "      <td>OA386378</td>\n",
       "    </tr>\n",
       "    <tr>\n",
       "      <th>4</th>\n",
       "      <td>T0000000117</td>\n",
       "      <td>170000</td>\n",
       "      <td>2019-02-01 04:33:46</td>\n",
       "      <td>PL542865</td>\n",
       "      <td>T0000005117</td>\n",
       "      <td>120000.0</td>\n",
       "      <td>2019-06-15 08:44:23</td>\n",
       "      <td>TS506913</td>\n",
       "    </tr>\n",
       "  </tbody>\n",
       "</table>\n",
       "</div>"
      ],
      "text/plain": [
       "  transaction_id   price         payment_date customer_id transaction_id  \\\n",
       "0    T0000000113  210000  2019-02-01 01:36:57    PL563502    T0000005113   \n",
       "1    T0000000114   50000  2019-02-01 01:37:23    HD678019    T0000005114   \n",
       "2    T0000000115  120000  2019-02-01 02:34:19    HD298120    T0000005115   \n",
       "3    T0000000116  210000  2019-02-01 02:47:23    IK452215    T0000005116   \n",
       "4    T0000000117  170000  2019-02-01 04:33:46    PL542865    T0000005117   \n",
       "\n",
       "      price         payment_date customer_id  \n",
       "0  295000.0  2019-06-15 07:20:27    TS169261  \n",
       "1   50000.0  2019-06-15 07:35:47    HI599892  \n",
       "2   85000.0  2019-06-15 07:56:36    HI421757  \n",
       "3   50000.0  2019-06-15 08:40:55    OA386378  \n",
       "4  120000.0  2019-06-15 08:44:23    TS506913  "
      ]
     },
     "metadata": {},
     "output_type": "display_data"
    },
    {
     "data": {
      "text/plain": [
       "(5000, 8)"
      ]
     },
     "metadata": {},
     "output_type": "display_data"
    }
   ],
   "source": [
    "transaction_2 = pd.read_csv(sample_code_dir + 'transaction_2.csv')\n",
    "display(transaction_2.shape)\n",
    "# ignore_indexでindex番号を振り直す。 axisで縦に結合を指示。\n",
    "transaction = pd.concat([transaction_1, transaction_2], ignore_index=True, axis=0)\n",
    "display(transaction.head(), transaction.shape)\n",
    "transaction_zikken = pd.concat([transaction_1, transaction_2], axis=1)\n",
    "display(transaction_zikken.head(), transaction_zikken.shape)"
   ]
  },
  {
   "cell_type": "code",
   "execution_count": 18,
   "metadata": {},
   "outputs": [
    {
     "data": {
      "text/plain": [
       "(2144, 4)"
      ]
     },
     "metadata": {},
     "output_type": "display_data"
    },
    {
     "data": {
      "text/html": [
       "<div>\n",
       "<style scoped>\n",
       "    .dataframe tbody tr th:only-of-type {\n",
       "        vertical-align: middle;\n",
       "    }\n",
       "\n",
       "    .dataframe tbody tr th {\n",
       "        vertical-align: top;\n",
       "    }\n",
       "\n",
       "    .dataframe thead th {\n",
       "        text-align: right;\n",
       "    }\n",
       "</style>\n",
       "<table border=\"1\" class=\"dataframe\">\n",
       "  <thead>\n",
       "    <tr style=\"text-align: right;\">\n",
       "      <th></th>\n",
       "      <th>detail_id</th>\n",
       "      <th>transaction_id</th>\n",
       "      <th>item_id</th>\n",
       "      <th>quantity</th>\n",
       "    </tr>\n",
       "  </thead>\n",
       "  <tbody>\n",
       "    <tr>\n",
       "      <th>0</th>\n",
       "      <td>0</td>\n",
       "      <td>T0000000113</td>\n",
       "      <td>S005</td>\n",
       "      <td>1</td>\n",
       "    </tr>\n",
       "    <tr>\n",
       "      <th>1</th>\n",
       "      <td>1</td>\n",
       "      <td>T0000000114</td>\n",
       "      <td>S001</td>\n",
       "      <td>1</td>\n",
       "    </tr>\n",
       "    <tr>\n",
       "      <th>2</th>\n",
       "      <td>2</td>\n",
       "      <td>T0000000115</td>\n",
       "      <td>S003</td>\n",
       "      <td>1</td>\n",
       "    </tr>\n",
       "    <tr>\n",
       "      <th>3</th>\n",
       "      <td>3</td>\n",
       "      <td>T0000000116</td>\n",
       "      <td>S005</td>\n",
       "      <td>1</td>\n",
       "    </tr>\n",
       "    <tr>\n",
       "      <th>4</th>\n",
       "      <td>4</td>\n",
       "      <td>T0000000117</td>\n",
       "      <td>S002</td>\n",
       "      <td>2</td>\n",
       "    </tr>\n",
       "  </tbody>\n",
       "</table>\n",
       "</div>"
      ],
      "text/plain": [
       "   detail_id transaction_id item_id  quantity\n",
       "0          0    T0000000113    S005         1\n",
       "1          1    T0000000114    S001         1\n",
       "2          2    T0000000115    S003         1\n",
       "3          3    T0000000116    S005         1\n",
       "4          4    T0000000117    S002         2"
      ]
     },
     "metadata": {},
     "output_type": "display_data"
    },
    {
     "data": {
      "text/plain": [
       "(7144, 4)"
      ]
     },
     "metadata": {},
     "output_type": "display_data"
    }
   ],
   "source": [
    "transaction_detail_2 = pd.read_csv(sample_code_dir + 'transaction_detail_2.csv')\n",
    "display(transaction_detail_2.shape)\n",
    "# ignore_indexでindex番号を振り直す。 axisで縦に結合を指示。\n",
    "transaction_detail = pd.concat([transaction_detail_1, transaction_detail_2], ignore_index=True, axis=0)\n",
    "display(transaction_detail.head(), transaction_detail.shape)"
   ]
  },
  {
   "cell_type": "markdown",
   "metadata": {},
   "source": [
    "### ノック３：売上データ同士を結合(ジョイン)してみよう"
   ]
  },
  {
   "cell_type": "code",
   "execution_count": 21,
   "metadata": {},
   "outputs": [
    {
     "data": {
      "text/html": [
       "<div>\n",
       "<style scoped>\n",
       "    .dataframe tbody tr th:only-of-type {\n",
       "        vertical-align: middle;\n",
       "    }\n",
       "\n",
       "    .dataframe tbody tr th {\n",
       "        vertical-align: top;\n",
       "    }\n",
       "\n",
       "    .dataframe thead th {\n",
       "        text-align: right;\n",
       "    }\n",
       "</style>\n",
       "<table border=\"1\" class=\"dataframe\">\n",
       "  <thead>\n",
       "    <tr style=\"text-align: right;\">\n",
       "      <th></th>\n",
       "      <th>detail_id</th>\n",
       "      <th>transaction_id</th>\n",
       "      <th>item_id</th>\n",
       "      <th>quantity</th>\n",
       "      <th>payment_date</th>\n",
       "      <th>customer_id</th>\n",
       "    </tr>\n",
       "  </thead>\n",
       "  <tbody>\n",
       "    <tr>\n",
       "      <th>0</th>\n",
       "      <td>0</td>\n",
       "      <td>T0000000113</td>\n",
       "      <td>S005</td>\n",
       "      <td>1</td>\n",
       "      <td>2019-02-01 01:36:57</td>\n",
       "      <td>PL563502</td>\n",
       "    </tr>\n",
       "    <tr>\n",
       "      <th>1</th>\n",
       "      <td>1</td>\n",
       "      <td>T0000000114</td>\n",
       "      <td>S001</td>\n",
       "      <td>1</td>\n",
       "      <td>2019-02-01 01:37:23</td>\n",
       "      <td>HD678019</td>\n",
       "    </tr>\n",
       "    <tr>\n",
       "      <th>2</th>\n",
       "      <td>2</td>\n",
       "      <td>T0000000115</td>\n",
       "      <td>S003</td>\n",
       "      <td>1</td>\n",
       "      <td>2019-02-01 02:34:19</td>\n",
       "      <td>HD298120</td>\n",
       "    </tr>\n",
       "    <tr>\n",
       "      <th>3</th>\n",
       "      <td>3</td>\n",
       "      <td>T0000000116</td>\n",
       "      <td>S005</td>\n",
       "      <td>1</td>\n",
       "      <td>2019-02-01 02:47:23</td>\n",
       "      <td>IK452215</td>\n",
       "    </tr>\n",
       "    <tr>\n",
       "      <th>4</th>\n",
       "      <td>4</td>\n",
       "      <td>T0000000117</td>\n",
       "      <td>S002</td>\n",
       "      <td>2</td>\n",
       "      <td>2019-02-01 04:33:46</td>\n",
       "      <td>PL542865</td>\n",
       "    </tr>\n",
       "  </tbody>\n",
       "</table>\n",
       "</div>"
      ],
      "text/plain": [
       "   detail_id transaction_id item_id  quantity         payment_date customer_id\n",
       "0          0    T0000000113    S005         1  2019-02-01 01:36:57    PL563502\n",
       "1          1    T0000000114    S001         1  2019-02-01 01:37:23    HD678019\n",
       "2          2    T0000000115    S003         1  2019-02-01 02:34:19    HD298120\n",
       "3          3    T0000000116    S005         1  2019-02-01 02:47:23    IK452215\n",
       "4          4    T0000000117    S002         2  2019-02-01 04:33:46    PL542865"
      ]
     },
     "metadata": {},
     "output_type": "display_data"
    },
    {
     "data": {
      "text/plain": [
       "(7144, 6)"
      ]
     },
     "metadata": {},
     "output_type": "display_data"
    }
   ],
   "source": [
    "## １つのDFに1つのDFをmergeする時にはmerge。 マージしたいkeyも指定可能。 onにてマージする主軸を決める。 howでマージの仕方(今回右に入れた)\n",
    "join_data = pd.merge(transaction_detail, transaction[[\"transaction_id\", \"payment_date\", \"customer_id\"]], on=\"transaction_id\", how=\"left\")\n",
    "display(join_data.head(), join_data.shape)"
   ]
  },
  {
   "cell_type": "markdown",
   "metadata": {},
   "source": [
    "### ノック４：マスタデータを結合(ジョイン)してみよう"
   ]
  },
  {
   "cell_type": "code",
   "execution_count": 33,
   "metadata": {},
   "outputs": [
    {
     "data": {
      "text/html": [
       "<div>\n",
       "<style scoped>\n",
       "    .dataframe tbody tr th:only-of-type {\n",
       "        vertical-align: middle;\n",
       "    }\n",
       "\n",
       "    .dataframe tbody tr th {\n",
       "        vertical-align: top;\n",
       "    }\n",
       "\n",
       "    .dataframe thead th {\n",
       "        text-align: right;\n",
       "    }\n",
       "</style>\n",
       "<table border=\"1\" class=\"dataframe\">\n",
       "  <thead>\n",
       "    <tr style=\"text-align: right;\">\n",
       "      <th></th>\n",
       "      <th>detail_id</th>\n",
       "      <th>transaction_id</th>\n",
       "      <th>item_id</th>\n",
       "      <th>quantity</th>\n",
       "      <th>payment_date</th>\n",
       "      <th>customer_id</th>\n",
       "      <th>customer_name</th>\n",
       "      <th>registration_date</th>\n",
       "      <th>customer_name_kana</th>\n",
       "      <th>email</th>\n",
       "      <th>gender</th>\n",
       "      <th>age</th>\n",
       "      <th>birth</th>\n",
       "      <th>pref</th>\n",
       "      <th>item_name</th>\n",
       "      <th>item_price</th>\n",
       "    </tr>\n",
       "  </thead>\n",
       "  <tbody>\n",
       "    <tr>\n",
       "      <th>0</th>\n",
       "      <td>0</td>\n",
       "      <td>T0000000113</td>\n",
       "      <td>S005</td>\n",
       "      <td>1</td>\n",
       "      <td>2019-02-01 01:36:57</td>\n",
       "      <td>PL563502</td>\n",
       "      <td>井本 芳正</td>\n",
       "      <td>2019-01-07 14:34:35</td>\n",
       "      <td>いもと よしまさ</td>\n",
       "      <td>imoto_yoshimasa@example.com</td>\n",
       "      <td>M</td>\n",
       "      <td>30</td>\n",
       "      <td>1989/7/15</td>\n",
       "      <td>熊本県</td>\n",
       "      <td>PC-E</td>\n",
       "      <td>210000</td>\n",
       "    </tr>\n",
       "    <tr>\n",
       "      <th>1</th>\n",
       "      <td>1</td>\n",
       "      <td>T0000000114</td>\n",
       "      <td>S001</td>\n",
       "      <td>1</td>\n",
       "      <td>2019-02-01 01:37:23</td>\n",
       "      <td>HD678019</td>\n",
       "      <td>三船 六郎</td>\n",
       "      <td>2019-01-27 18:00:11</td>\n",
       "      <td>みふね ろくろう</td>\n",
       "      <td>mifune_rokurou@example.com</td>\n",
       "      <td>M</td>\n",
       "      <td>73</td>\n",
       "      <td>1945/11/29</td>\n",
       "      <td>京都府</td>\n",
       "      <td>PC-A</td>\n",
       "      <td>50000</td>\n",
       "    </tr>\n",
       "    <tr>\n",
       "      <th>2</th>\n",
       "      <td>2</td>\n",
       "      <td>T0000000115</td>\n",
       "      <td>S003</td>\n",
       "      <td>1</td>\n",
       "      <td>2019-02-01 02:34:19</td>\n",
       "      <td>HD298120</td>\n",
       "      <td>山根 小雁</td>\n",
       "      <td>2019-01-11 08:16:02</td>\n",
       "      <td>やまね こがん</td>\n",
       "      <td>yamane_kogan@example.com</td>\n",
       "      <td>M</td>\n",
       "      <td>42</td>\n",
       "      <td>1977/5/17</td>\n",
       "      <td>茨城県</td>\n",
       "      <td>PC-C</td>\n",
       "      <td>120000</td>\n",
       "    </tr>\n",
       "    <tr>\n",
       "      <th>3</th>\n",
       "      <td>3</td>\n",
       "      <td>T0000000116</td>\n",
       "      <td>S005</td>\n",
       "      <td>1</td>\n",
       "      <td>2019-02-01 02:47:23</td>\n",
       "      <td>IK452215</td>\n",
       "      <td>池田 菜摘</td>\n",
       "      <td>2019-01-10 05:07:38</td>\n",
       "      <td>いけだ なつみ</td>\n",
       "      <td>ikeda_natsumi@example.com</td>\n",
       "      <td>F</td>\n",
       "      <td>47</td>\n",
       "      <td>1972/3/17</td>\n",
       "      <td>兵庫県</td>\n",
       "      <td>PC-E</td>\n",
       "      <td>210000</td>\n",
       "    </tr>\n",
       "    <tr>\n",
       "      <th>4</th>\n",
       "      <td>4</td>\n",
       "      <td>T0000000117</td>\n",
       "      <td>S002</td>\n",
       "      <td>2</td>\n",
       "      <td>2019-02-01 04:33:46</td>\n",
       "      <td>PL542865</td>\n",
       "      <td>栗田 憲一</td>\n",
       "      <td>2019-01-25 06:46:05</td>\n",
       "      <td>くりた けんいち</td>\n",
       "      <td>kurita_kenichi@example.com</td>\n",
       "      <td>M</td>\n",
       "      <td>74</td>\n",
       "      <td>1944/12/17</td>\n",
       "      <td>長崎県</td>\n",
       "      <td>PC-B</td>\n",
       "      <td>85000</td>\n",
       "    </tr>\n",
       "  </tbody>\n",
       "</table>\n",
       "</div>"
      ],
      "text/plain": [
       "   detail_id transaction_id item_id  quantity         payment_date  \\\n",
       "0          0    T0000000113    S005         1  2019-02-01 01:36:57   \n",
       "1          1    T0000000114    S001         1  2019-02-01 01:37:23   \n",
       "2          2    T0000000115    S003         1  2019-02-01 02:34:19   \n",
       "3          3    T0000000116    S005         1  2019-02-01 02:47:23   \n",
       "4          4    T0000000117    S002         2  2019-02-01 04:33:46   \n",
       "\n",
       "  customer_id customer_name    registration_date customer_name_kana  \\\n",
       "0    PL563502         井本 芳正  2019-01-07 14:34:35           いもと よしまさ   \n",
       "1    HD678019         三船 六郎  2019-01-27 18:00:11           みふね ろくろう   \n",
       "2    HD298120         山根 小雁  2019-01-11 08:16:02            やまね こがん   \n",
       "3    IK452215         池田 菜摘  2019-01-10 05:07:38            いけだ なつみ   \n",
       "4    PL542865         栗田 憲一  2019-01-25 06:46:05           くりた けんいち   \n",
       "\n",
       "                         email gender  age       birth pref item_name  \\\n",
       "0  imoto_yoshimasa@example.com      M   30   1989/7/15  熊本県      PC-E   \n",
       "1   mifune_rokurou@example.com      M   73  1945/11/29  京都府      PC-A   \n",
       "2     yamane_kogan@example.com      M   42   1977/5/17  茨城県      PC-C   \n",
       "3    ikeda_natsumi@example.com      F   47   1972/3/17  兵庫県      PC-E   \n",
       "4   kurita_kenichi@example.com      M   74  1944/12/17  長崎県      PC-B   \n",
       "\n",
       "   item_price  \n",
       "0      210000  \n",
       "1       50000  \n",
       "2      120000  \n",
       "3      210000  \n",
       "4       85000  "
      ]
     },
     "metadata": {},
     "output_type": "display_data"
    },
    {
     "data": {
      "text/plain": [
       "(7144, 16)"
      ]
     },
     "metadata": {},
     "output_type": "display_data"
    }
   ],
   "source": [
    "join_data = pd.merge(join_data, customer_master, on=\"customer_id\", how=\"left\")\n",
    "join_data = pd.merge(join_data, item_master, on=\"item_id\", how=\"left\")\n",
    "display(join_data.head(), join_data.shape)"
   ]
  },
  {
   "cell_type": "markdown",
   "metadata": {},
   "source": [
    "### ノック5：必要なデータ列を作ろう"
   ]
  },
  {
   "cell_type": "code",
   "execution_count": null,
   "metadata": {},
   "outputs": [],
   "source": []
  },
  {
   "cell_type": "markdown",
   "metadata": {},
   "source": [
    "### ノック6：データ検算をしよう"
   ]
  },
  {
   "cell_type": "code",
   "execution_count": null,
   "metadata": {},
   "outputs": [],
   "source": []
  },
  {
   "cell_type": "code",
   "execution_count": null,
   "metadata": {},
   "outputs": [],
   "source": []
  },
  {
   "cell_type": "markdown",
   "metadata": {},
   "source": [
    "### ノック7：各種統計量を把握しよう"
   ]
  },
  {
   "cell_type": "code",
   "execution_count": null,
   "metadata": {},
   "outputs": [],
   "source": []
  },
  {
   "cell_type": "code",
   "execution_count": null,
   "metadata": {},
   "outputs": [],
   "source": []
  },
  {
   "cell_type": "code",
   "execution_count": null,
   "metadata": {},
   "outputs": [],
   "source": []
  },
  {
   "cell_type": "markdown",
   "metadata": {},
   "source": [
    "### ノック8：月別でデータを集計してみよう"
   ]
  },
  {
   "cell_type": "code",
   "execution_count": null,
   "metadata": {},
   "outputs": [],
   "source": []
  },
  {
   "cell_type": "code",
   "execution_count": null,
   "metadata": {},
   "outputs": [],
   "source": []
  },
  {
   "cell_type": "code",
   "execution_count": null,
   "metadata": {},
   "outputs": [],
   "source": []
  },
  {
   "cell_type": "markdown",
   "metadata": {},
   "source": [
    "### ノック9：月別、商品別でデータを集計してみよう"
   ]
  },
  {
   "cell_type": "code",
   "execution_count": null,
   "metadata": {},
   "outputs": [],
   "source": []
  },
  {
   "cell_type": "code",
   "execution_count": null,
   "metadata": {},
   "outputs": [],
   "source": []
  },
  {
   "cell_type": "markdown",
   "metadata": {},
   "source": [
    "### ノック10：商品別の売上推移を可視化してみよう"
   ]
  },
  {
   "cell_type": "code",
   "execution_count": null,
   "metadata": {},
   "outputs": [],
   "source": []
  },
  {
   "cell_type": "code",
   "execution_count": null,
   "metadata": {},
   "outputs": [],
   "source": []
  },
  {
   "cell_type": "code",
   "execution_count": null,
   "metadata": {},
   "outputs": [],
   "source": []
  }
 ],
 "metadata": {
  "kernelspec": {
   "display_name": "Python 3",
   "language": "python",
   "name": "python3"
  },
  "language_info": {
   "codemirror_mode": {
    "name": "ipython",
    "version": 3
   },
   "file_extension": ".py",
   "mimetype": "text/x-python",
   "name": "python",
   "nbconvert_exporter": "python",
   "pygments_lexer": "ipython3",
   "version": "3.7.6"
  }
 },
 "nbformat": 4,
 "nbformat_minor": 2
}
